{
 "cells": [
  {
   "cell_type": "code",
   "execution_count": null,
   "id": "3aa24fb9",
   "metadata": {},
   "outputs": [],
   "source": [
    "class Customer:\n",
    "    def __init__(self, name, user_name, password):\n",
    "        self.name = name\n",
    "        self.user_name = user_name\n",
    "        self.password = password\n",
    "        self.accounts = []\n",
    "                \n",
    "    def __str__(self):\n",
    "        return f\"Name: {self.name}\\nUsername: {self.user_name}\""
   ]
  }
 ],
 "metadata": {
  "kernelspec": {
   "display_name": "Python 3 (ipykernel)",
   "language": "python",
   "name": "python3"
  },
  "language_info": {
   "codemirror_mode": {
    "name": "ipython",
    "version": 3
   },
   "file_extension": ".py",
   "mimetype": "text/x-python",
   "name": "python",
   "nbconvert_exporter": "python",
   "pygments_lexer": "ipython3",
   "version": "3.9.13"
  }
 },
 "nbformat": 4,
 "nbformat_minor": 5
}
