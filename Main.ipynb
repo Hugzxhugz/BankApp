{
 "cells": [
  {
   "cell_type": "code",
   "execution_count": 52,
   "metadata": {},
   "outputs": [],
   "source": [
    "from Bank import BankingFunctions"
   ]
  },
  {
   "cell_type": "code",
   "execution_count": 53,
   "metadata": {},
   "outputs": [],
   "source": [
    "bf = BankingFunctions()"
   ]
  },
  {
   "cell_type": "code",
   "execution_count": 54,
   "metadata": {},
   "outputs": [
    {
     "name": "stdout",
     "output_type": "stream",
     "text": [
      "Congratulations for signing up.\n"
     ]
    }
   ],
   "source": [
    "bf.add_customer(\"potpot\", \"password\")"
   ]
  },
  {
   "cell_type": "code",
   "execution_count": 55,
   "metadata": {},
   "outputs": [
    {
     "name": "stdout",
     "output_type": "stream",
     "text": [
      "Successfully logged in.\n"
     ]
    }
   ],
   "source": [
    "cust1 = bf.login(\"potpot\", \"password\")"
   ]
  },
  {
   "cell_type": "code",
   "execution_count": 56,
   "metadata": {},
   "outputs": [
    {
     "data": {
      "text/plain": "Username: potpot / Password: password "
     },
     "execution_count": 56,
     "metadata": {},
     "output_type": "execute_result"
    }
   ],
   "source": [
    "bf.check_logged_in_user()"
   ]
  },
  {
   "cell_type": "code",
   "execution_count": 57,
   "metadata": {},
   "outputs": [
    {
     "name": "stdout",
     "output_type": "stream",
     "text": [
      "User has been logged out.\n"
     ]
    }
   ],
   "source": [
    "bf.logout()"
   ]
  },
  {
   "cell_type": "code",
   "execution_count": 58,
   "metadata": {},
   "outputs": [
    {
     "name": "stdout",
     "output_type": "stream",
     "text": [
      "No user is logged in.\n"
     ]
    }
   ],
   "source": [
    "bf.check_logged_in_user()"
   ]
  },
  {
   "cell_type": "code",
   "execution_count": 59,
   "metadata": {},
   "outputs": [
    {
     "name": "stdout",
     "output_type": "stream",
     "text": [
      "Successfully created account.\n"
     ]
    }
   ],
   "source": [
    "bf.add_account(cust1, \"1234\", 5000)"
   ]
  },
  {
   "cell_type": "code",
   "execution_count": 60,
   "metadata": {},
   "outputs": [],
   "source": [
    "#bf.remove_account(cust1, \"1234\")"
   ]
  },
  {
   "cell_type": "code",
   "execution_count": 61,
   "metadata": {},
   "outputs": [],
   "source": [
    "customer = bf.get_customer(\"potpot\")"
   ]
  },
  {
   "cell_type": "code",
   "execution_count": 62,
   "metadata": {},
   "outputs": [],
   "source": [
    "account = bf.get_account(customer, \"1234\")"
   ]
  },
  {
   "cell_type": "code",
   "execution_count": 63,
   "metadata": {},
   "outputs": [
    {
     "name": "stdout",
     "output_type": "stream",
     "text": [
      "Successfully deposited amount.\n"
     ]
    }
   ],
   "source": [
    "bf.deposit(account, 500)"
   ]
  },
  {
   "cell_type": "code",
   "execution_count": 64,
   "metadata": {},
   "outputs": [
    {
     "name": "stdout",
     "output_type": "stream",
     "text": [
      "1234/5500\n"
     ]
    }
   ],
   "source": [
    "print(account)"
   ]
  },
  {
   "cell_type": "code",
   "execution_count": 65,
   "metadata": {},
   "outputs": [
    {
     "name": "stdout",
     "output_type": "stream",
     "text": [
      "Successfully withdrew amount.\n",
      "1234/5300\n"
     ]
    }
   ],
   "source": [
    "bf.withdraw(account, 200)\n",
    "print(account)"
   ]
  },
  {
   "cell_type": "code",
   "execution_count": 66,
   "metadata": {},
   "outputs": [
    {
     "name": "stdout",
     "output_type": "stream",
     "text": [
      "Successfully removed account.\n"
     ]
    }
   ],
   "source": [
    "bf.remove_account(customer, \"1234\")"
   ]
  },
  {
   "cell_type": "code",
   "execution_count": 67,
   "metadata": {},
   "outputs": [
    {
     "name": "stdout",
     "output_type": "stream",
     "text": [
      "Successfully created account.\n"
     ]
    }
   ],
   "source": [
    "bf.add_account(customer, \"23456\", 6000)"
   ]
  },
  {
   "cell_type": "code",
   "execution_count": 68,
   "metadata": {},
   "outputs": [
    {
     "name": "stdout",
     "output_type": "stream",
     "text": [
      "Successfully created account.\n"
     ]
    }
   ],
   "source": [
    "bf.add_account(customer, \"3456\", 700)"
   ]
  },
  {
   "cell_type": "code",
   "execution_count": 69,
   "metadata": {},
   "outputs": [
    {
     "data": {
      "text/plain": "[Account Number: 23456 / Balance: 6000 , Account Number: 3456 / Balance: 700 ]"
     },
     "execution_count": 69,
     "metadata": {},
     "output_type": "execute_result"
    }
   ],
   "source": [
    "bf.get_accounts(customer)"
   ]
  },
  {
   "cell_type": "code",
   "execution_count": 70,
   "metadata": {},
   "outputs": [
    {
     "data": {
      "text/plain": "[6000, 700]"
     },
     "execution_count": 70,
     "metadata": {},
     "output_type": "execute_result"
    }
   ],
   "source": [
    "bf.get_all_balances(customer)"
   ]
  },
  {
   "cell_type": "code",
   "execution_count": 71,
   "metadata": {},
   "outputs": [
    {
     "data": {
      "text/plain": "Account Number: 23456 / Balance: 6000 "
     },
     "execution_count": 71,
     "metadata": {},
     "output_type": "execute_result"
    }
   ],
   "source": [
    "bf.get_account(customer,\"23456\")"
   ]
  },
  {
   "cell_type": "code",
   "execution_count": 72,
   "metadata": {},
   "outputs": [
    {
     "data": {
      "text/plain": "[Username: potpot / Password: password ]"
     },
     "execution_count": 72,
     "metadata": {},
     "output_type": "execute_result"
    }
   ],
   "source": [
    "bf.get_customers()"
   ]
  },
  {
   "cell_type": "code",
   "execution_count": 73,
   "metadata": {},
   "outputs": [
    {
     "name": "stdout",
     "output_type": "stream",
     "text": [
      "Congratulations for signing up.\n"
     ]
    }
   ],
   "source": [
    "bf.add_customer(\"toinky\", \"pawsword\")"
   ]
  },
  {
   "cell_type": "code",
   "execution_count": 74,
   "metadata": {},
   "outputs": [
    {
     "data": {
      "text/plain": "[Username: potpot / Password: password ,\n Username: toinky / Password: pawsword ]"
     },
     "execution_count": 74,
     "metadata": {},
     "output_type": "execute_result"
    }
   ],
   "source": [
    "bf.get_customers()"
   ]
  },
  {
   "cell_type": "code",
   "execution_count": 75,
   "metadata": {},
   "outputs": [],
   "source": [
    "#bf.remove_customer(\"potpot\")\n",
    "#works =)"
   ]
  },
  {
   "cell_type": "code",
   "execution_count": 76,
   "metadata": {},
   "outputs": [
    {
     "data": {
      "text/plain": "[Username: potpot / Password: password ,\n Username: toinky / Password: pawsword ]"
     },
     "execution_count": 76,
     "metadata": {},
     "output_type": "execute_result"
    }
   ],
   "source": [
    "bf.get_customers()"
   ]
  },
  {
   "cell_type": "code",
   "execution_count": 77,
   "metadata": {},
   "outputs": [],
   "source": [
    "bf.change_password(\"toinky\", \"new_pawsword\")"
   ]
  },
  {
   "cell_type": "code",
   "execution_count": 78,
   "metadata": {},
   "outputs": [],
   "source": [
    "customer2 = bf.get_customer(\"toinky\")"
   ]
  },
  {
   "cell_type": "code",
   "execution_count": 79,
   "metadata": {},
   "outputs": [
    {
     "name": "stdout",
     "output_type": "stream",
     "text": [
      "Successfully created account.\n"
     ]
    }
   ],
   "source": [
    "bf.add_account(customer2,\"7272\", 9000)"
   ]
  },
  {
   "cell_type": "code",
   "execution_count": 80,
   "metadata": {},
   "outputs": [
    {
     "name": "stdout",
     "output_type": "stream",
     "text": [
      "Successfully created account.\n"
     ]
    }
   ],
   "source": [
    "bf.add_account(customer2,\"6372\", 800)"
   ]
  },
  {
   "cell_type": "code",
   "execution_count": 81,
   "metadata": {},
   "outputs": [
    {
     "data": {
      "text/plain": "[Account Number: 7272 / Balance: 9000 , Account Number: 6372 / Balance: 800 ]"
     },
     "execution_count": 81,
     "metadata": {},
     "output_type": "execute_result"
    }
   ],
   "source": [
    "bf.get_accounts(customer2)"
   ]
  },
  {
   "cell_type": "code",
   "execution_count": 82,
   "metadata": {},
   "outputs": [
    {
     "data": {
      "text/plain": "[Username: potpot / Password: password ,\n Username: toinky / Password: new_pawsword ]"
     },
     "execution_count": 82,
     "metadata": {},
     "output_type": "execute_result"
    }
   ],
   "source": [
    "bf.get_customers()"
   ]
  },
  {
   "cell_type": "code",
   "execution_count": 83,
   "metadata": {},
   "outputs": [
    {
     "name": "stdout",
     "output_type": "stream",
     "text": [
      "Username: potpot\n",
      "Username: toinky\n"
     ]
    }
   ],
   "source": [
    "bf.print_all_customers()"
   ]
  },
  {
   "cell_type": "code",
   "execution_count": 84,
   "metadata": {},
   "outputs": [
    {
     "name": "stdout",
     "output_type": "stream",
     "text": [
      "Account Number: 23456  / Balance: 6000\n",
      "Account Number: 3456  / Balance: 700\n"
     ]
    }
   ],
   "source": [
    "bf.print_user_accounts(customer)"
   ]
  },
  {
   "cell_type": "code",
   "execution_count": 85,
   "metadata": {},
   "outputs": [
    {
     "name": "stdout",
     "output_type": "stream",
     "text": [
      "Successfully printed file to customer_list.txt\n"
     ]
    }
   ],
   "source": [
    "bf.print_to_txt(\"customer_list.txt\")"
   ]
  },
  {
   "cell_type": "code",
   "execution_count": 86,
   "metadata": {},
   "outputs": [
    {
     "name": "stdout",
     "output_type": "stream",
     "text": [
      "Username: potpot\n",
      "Username: toinky\n"
     ]
    }
   ],
   "source": [
    "bf.print_all_customers()"
   ]
  },
  {
   "cell_type": "code",
   "execution_count": 87,
   "metadata": {},
   "outputs": [
    {
     "name": "stdout",
     "output_type": "stream",
     "text": [
      "\n",
      "username: potpot\n",
      "password: password\n",
      "accounts: ['23456', '3456']\n",
      "balances: ['6000', '700']\n",
      "\n",
      "username: toinky\n",
      "password: new_pawsword\n",
      "accounts: ['7272', '6372']\n",
      "balances: ['9000', '800']\n"
     ]
    },
    {
     "data": {
      "text/plain": "('toinky', 'new_pawsword', ['7272', '6372'], ['9000', '800'])"
     },
     "execution_count": 87,
     "metadata": {},
     "output_type": "execute_result"
    }
   ],
   "source": [
    "\n",
    "bf.read_from_txt(\"customer_list.txt\")"
   ]
  },
  {
   "cell_type": "code",
   "execution_count": 88,
   "metadata": {},
   "outputs": [
    {
     "name": "stdout",
     "output_type": "stream",
     "text": [
      "Username: potpot\n",
      "Username: toinky\n"
     ]
    }
   ],
   "source": [
    "bf.print_all_customers()"
   ]
  },
  {
   "cell_type": "code",
   "execution_count": 89,
   "metadata": {},
   "outputs": [
    {
     "name": "stdout",
     "output_type": "stream",
     "text": [
      "Successfully loaded customer_list2.txt\n"
     ]
    }
   ],
   "source": [
    "bf.load_data_from_txt(\"customer_list2.txt\")"
   ]
  },
  {
   "cell_type": "code",
   "execution_count": 90,
   "metadata": {},
   "outputs": [
    {
     "name": "stdout",
     "output_type": "stream",
     "text": [
      "Username: potpot\n",
      "Username: toinky\n",
      "Username: amanda\n",
      "Username: linnea\n",
      "Username: milanette\n"
     ]
    }
   ],
   "source": [
    "bf.print_all_customers()"
   ]
  },
  {
   "cell_type": "code",
   "execution_count": 91,
   "metadata": {},
   "outputs": [
    {
     "data": {
      "text/plain": "{'customers': [{'username': 'potpot',\n   'password': 'password',\n   'accounts': [{'account_number': '23456', 'balance': 6000},\n    {'account_number': '3456', 'balance': 700}]},\n  {'username': 'toinky',\n   'password': 'new_pawsword',\n   'accounts': [{'account_number': '7272', 'balance': 9000},\n    {'account_number': '6372', 'balance': 800}]},\n  {'username': 'amanda',\n   'password': 'password',\n   'accounts': [{'account_number': '23456', 'balance': '6000'},\n    {'account_number': None, 'balance': '6000'},\n    {'account_number': '3456', 'balance': '700'},\n    {'account_number': None, 'balance': '700'}]},\n  {'username': 'linnea',\n   'password': 'new_pawsword',\n   'accounts': [{'account_number': '7272', 'balance': '9000'},\n    {'account_number': None, 'balance': '9000'},\n    {'account_number': '6372', 'balance': '800'},\n    {'account_number': None, 'balance': '800'}]},\n  {'username': 'milanette',\n   'password': 'new_pawsword2',\n   'accounts': [{'account_number': '972729', 'balance': '870'},\n    {'account_number': None, 'balance': '870'},\n    {'account_number': '3464', 'balance': '746'},\n    {'account_number': None, 'balance': '746'}]}]}"
     },
     "execution_count": 91,
     "metadata": {},
     "output_type": "execute_result"
    }
   ],
   "source": [
    "bf.data_to_dict()"
   ]
  },
  {
   "cell_type": "code",
   "execution_count": 92,
   "metadata": {},
   "outputs": [
    {
     "name": "stdout",
     "output_type": "stream",
     "text": [
      "Successfully saved to test1.json \n"
     ]
    }
   ],
   "source": [
    "file_name = \"test1.json\"\n",
    "bf.save_data_to_json(file_name)"
   ]
  },
  {
   "cell_type": "code",
   "execution_count": 93,
   "metadata": {},
   "outputs": [
    {
     "name": "stdout",
     "output_type": "stream",
     "text": [
      "Successfully loaded data from test2.json\n"
     ]
    }
   ],
   "source": [
    "file_name2 = \"test2.json\"\n",
    "bf.load_data_from_json(file_name2)"
   ]
  },
  {
   "cell_type": "code",
   "execution_count": 94,
   "metadata": {},
   "outputs": [
    {
     "name": "stdout",
     "output_type": "stream",
     "text": [
      "Username: potpot\n",
      "Username: toinky\n",
      "Username: amanda\n",
      "Username: linnea\n",
      "Username: milanette\n",
      "Username: anna\n",
      "Username: james\n"
     ]
    }
   ],
   "source": [
    "bf.print_all_customers()"
   ]
  },
  {
   "cell_type": "code",
   "execution_count": 95,
   "metadata": {},
   "outputs": [
    {
     "data": {
      "text/plain": "[Account Number: 7272 / Balance: 9000 , Account Number: 6372 / Balance: 800 ]"
     },
     "execution_count": 95,
     "metadata": {},
     "output_type": "execute_result"
    }
   ],
   "source": [
    "james = bf.get_customer(\"james\")\n",
    "bf.get_accounts(james)"
   ]
  },
  {
   "cell_type": "code",
   "execution_count": 96,
   "metadata": {},
   "outputs": [
    {
     "name": "stdout",
     "output_type": "stream",
     "text": [
      "Successfully saved to test3.json \n"
     ]
    }
   ],
   "source": [
    "file_name3 = \"test3.json\"\n",
    "bf.save_data_to_json(file_name3)"
   ]
  },
  {
   "cell_type": "code",
   "execution_count": 97,
   "metadata": {},
   "outputs": [
    {
     "name": "stdout",
     "output_type": "stream",
     "text": [
      "Username: potpot\n",
      "Username: toinky\n",
      "Username: amanda\n",
      "Username: linnea\n",
      "Username: milanette\n",
      "Username: anna\n",
      "Username: james\n"
     ]
    }
   ],
   "source": [
    "bf.print_all_customers()"
   ]
  },
  {
   "cell_type": "code",
   "execution_count": 98,
   "metadata": {},
   "outputs": [
    {
     "data": {
      "text/plain": "{'customers': [{'username': 'potpot',\n   'password': 'password',\n   'accounts': [{'account_number': '23456', 'balance': 6000},\n    {'account_number': '3456', 'balance': 700}]},\n  {'username': 'toinky',\n   'password': 'new_pawsword',\n   'accounts': [{'account_number': '7272', 'balance': 9000},\n    {'account_number': '6372', 'balance': 800}]},\n  {'username': 'amanda',\n   'password': 'password',\n   'accounts': [{'account_number': '23456', 'balance': '6000'},\n    {'account_number': None, 'balance': '6000'},\n    {'account_number': '3456', 'balance': '700'},\n    {'account_number': None, 'balance': '700'}]},\n  {'username': 'linnea',\n   'password': 'new_pawsword',\n   'accounts': [{'account_number': '7272', 'balance': '9000'},\n    {'account_number': None, 'balance': '9000'},\n    {'account_number': '6372', 'balance': '800'},\n    {'account_number': None, 'balance': '800'}]},\n  {'username': 'milanette',\n   'password': 'new_pawsword2',\n   'accounts': [{'account_number': '972729', 'balance': '870'},\n    {'account_number': None, 'balance': '870'},\n    {'account_number': '3464', 'balance': '746'},\n    {'account_number': None, 'balance': '746'}]},\n  {'username': 'anna',\n   'password': 'password',\n   'accounts': [{'account_number': '23456', 'balance': 6000},\n    {'account_number': '3456', 'balance': 700}]},\n  {'username': 'james',\n   'password': 'new_pawsword',\n   'accounts': [{'account_number': '7272', 'balance': 9000},\n    {'account_number': '6372', 'balance': 800}]}]}"
     },
     "execution_count": 98,
     "metadata": {},
     "output_type": "execute_result"
    }
   ],
   "source": [
    "bf.data_to_dict()"
   ]
  },
  {
   "cell_type": "code",
   "execution_count": 99,
   "metadata": {},
   "outputs": [
    {
     "name": "stdout",
     "output_type": "stream",
     "text": [
      "Successfully printed file to customer_list3.txt\n"
     ]
    }
   ],
   "source": [
    "bf.print_to_txt(\"customer_list3.txt\")"
   ]
  },
  {
   "cell_type": "code",
   "execution_count": 100,
   "outputs": [
    {
     "name": "stdout",
     "output_type": "stream",
     "text": [
      "Username: potpot\n",
      "Username: toinky\n",
      "Username: amanda\n",
      "Username: linnea\n",
      "Username: milanette\n",
      "Username: anna\n",
      "Username: james\n"
     ]
    }
   ],
   "source": [
    "bf.print_all_customers()"
   ],
   "metadata": {
    "collapsed": false
   }
  }
 ],
 "metadata": {
  "kernelspec": {
   "display_name": "Python 3 (ipykernel)",
   "language": "python",
   "name": "python3"
  },
  "language_info": {
   "codemirror_mode": {
    "name": "ipython",
    "version": 3
   },
   "file_extension": ".py",
   "mimetype": "text/x-python",
   "name": "python",
   "nbconvert_exporter": "python",
   "pygments_lexer": "ipython3",
   "version": "3.9.13"
  }
 },
 "nbformat": 4,
 "nbformat_minor": 1
}
